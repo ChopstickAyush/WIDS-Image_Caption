{
 "cells": [
  {
   "attachments": {},
   "cell_type": "markdown",
   "metadata": {},
   "source": [
    "* importing the module \n",
    "* setting the seed \n",
    "* reading the train input"
   ]
  },
  {
   "cell_type": "code",
   "execution_count": 85,
   "metadata": {},
   "outputs": [],
   "source": [
    "import pandas as pd\n",
    "import nltk\n",
    "from nltk.tokenize import RegexpTokenizer\n",
    "import numpy as np\n",
    "np.random.seed(0)\n",
    "from nltk.stem import WordNetLemmatizer\n",
    "np.random.seed(0)\n",
    "sent_train=pd.read_csv('train.csv',encoding=\"latin-1\")\n",
    "sent_test=pd.read_csv('test.csv',encoding=\"latin-1\")"
   ]
  },
  {
   "attachments": {},
   "cell_type": "markdown",
   "metadata": {},
   "source": [
    "* intialising the tokenizer\n"
   ]
  },
  {
   "cell_type": "code",
   "execution_count": 86,
   "metadata": {},
   "outputs": [],
   "source": [
    "tokenizer = RegexpTokenizer(r'\\w+')"
   ]
  },
  {
   "attachments": {},
   "cell_type": "markdown",
   "metadata": {},
   "source": [
    "* tokenizing and transforming the sentence by \n",
    "    * omitting common stopwords\n",
    "    * removing punctuations\n",
    "    * removing special symbols"
   ]
  },
  {
   "cell_type": "code",
   "execution_count": 87,
   "metadata": {},
   "outputs": [],
   "source": [
    "import re\n",
    "stopwords = nltk.corpus.stopwords.words('english')\n",
    "stopwords_lower = [s.lower() for s in stopwords]\n",
    "def text_preprocessing(str_input): \n",
    "     #tokenization, remove punctuation, lemmatization\n",
    "     words=tokenizer.tokenize(str_input)\n",
    "     # remove symbols, websites, email addresses \n",
    "     words = [re.sub(r'[^A-Za-z@]', ' ', word) for word in words] \n",
    "     words = [re.sub(r'\\S+com', ' ', word) for word in words]\n",
    "     words = [re.sub(r'\\S+@\\S+', ' ', word) for word in words] \n",
    "     words = [word for word in words if word!=' ']\n",
    "     words = [word for word in words if len(word)!=0] \n",
    "     #remove stopwords     \n",
    "     words=[word.lower() for word in words if word.lower() not in stopwords_lower and word.strip() != \"\"]\n",
    "     #combine a list into one string   \n",
    "     string = ' '.join(words)\n",
    "     return string\n",
    "\n",
    "sent_train['modified_sent']= sent_train['Sentence'].apply(text_preprocessing)\n",
    "sent_test['modified_sent']= sent_test['Sentence'].apply(text_preprocessing)\n",
    "\n",
    "lemmatizer = WordNetLemmatizer()\n",
    "def lemmatize_words(str):\n",
    "    words = [lemmatizer.lemmatize(word) for word in str.split()]\n",
    "    return ' '.join(words)\n",
    "    \n",
    "sent_train['modified_sent'] = sent_train.modified_sent.apply(lemmatize_words)\n",
    "sent_test['modified_sent'] = sent_test.modified_sent.apply(lemmatize_words)"
   ]
  },
  {
   "attachments": {},
   "cell_type": "markdown",
   "metadata": {},
   "source": [
    "* Making bog type of matrix using TfidfVectorizer\n",
    "* loading the training dataset"
   ]
  },
  {
   "cell_type": "code",
   "execution_count": 88,
   "metadata": {},
   "outputs": [],
   "source": [
    "import sklearn\n",
    "from  sklearn.feature_extraction.text import TfidfVectorizer\n",
    "\n",
    "text = [text for text in sent_train.modified_sent]\n",
    "vector_text = TfidfVectorizer(stop_words='english')\n",
    "vector_text.fit(text)\n",
    "vector = vector_text.transform(text)\n",
    "x_train=(vector.toarray())\n",
    "y_train = [i for i in sent_train.Sentiment]"
   ]
  },
  {
   "attachments": {},
   "cell_type": "markdown",
   "metadata": {},
   "source": [
    "* choosing the model for classification\n",
    "* splitting the dataset into train and cross-validation"
   ]
  },
  {
   "cell_type": "code",
   "execution_count": 89,
   "metadata": {},
   "outputs": [],
   "source": [
    "from sklearn.model_selection import train_test_split\n",
    "from sklearn.naive_bayes import MultinomialNB\n",
    "from sklearn.metrics import f1_score\n",
    "train_x, test_x, train_y, test_y = train_test_split(x_train, y_train, test_size=0.3)"
   ]
  },
  {
   "attachments": {},
   "cell_type": "markdown",
   "metadata": {},
   "source": [
    "* fitting the model on training dataset\n",
    "* checking the f1-score on cross validation dataset"
   ]
  },
  {
   "cell_type": "code",
   "execution_count": 90,
   "metadata": {},
   "outputs": [
    {
     "name": "stdout",
     "output_type": "stream",
     "text": [
      "[0.07048458 0.78443114 0.53120464]\n"
     ]
    }
   ],
   "source": [
    "clf = MultinomialNB().fit(train_x, train_y)\n",
    "predict_y=clf.predict(test_x)\n",
    "print(f1_score(test_y,predict_y,average=None))"
   ]
  },
  {
   "cell_type": "code",
   "execution_count": 91,
   "metadata": {},
   "outputs": [],
   "source": [
    "def predict(s):\n",
    "    a=vector_text.transform(s)\n",
    "    return (clf.predict(a))\n",
    "a=predict(sent_test.modified_sent)\n",
    "df= pd.DataFrame(data={\"predictions\":a})\n",
    "df.to_csv('sentiments.csv')"
   ]
  }
 ],
 "metadata": {
  "kernelspec": {
   "display_name": "Python 3",
   "language": "python",
   "name": "python3"
  },
  "language_info": {
   "codemirror_mode": {
    "name": "ipython",
    "version": 3
   },
   "file_extension": ".py",
   "mimetype": "text/x-python",
   "name": "python",
   "nbconvert_exporter": "python",
   "pygments_lexer": "ipython3",
   "version": "3.10.8"
  },
  "orig_nbformat": 4,
  "vscode": {
   "interpreter": {
    "hash": "b0fa6594d8f4cbf19f97940f81e996739fb7646882a419484c72d19e05852a7e"
   }
  }
 },
 "nbformat": 4,
 "nbformat_minor": 2
}
