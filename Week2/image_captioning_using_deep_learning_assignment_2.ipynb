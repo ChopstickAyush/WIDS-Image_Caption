{
 "cells": [
  {
   "cell_type": "markdown",
   "metadata": {
    "id": "YOMDY6CE6uQy"
   },
   "source": [
    "# Image Captioning using Deep Learning: Assignment-2\n",
    "\n",
    "*  In this assignment, we will build a classifier for MNIST from using [PyTorch](https://pytorch.org/docs/stable/index.html). \n",
    "\n",
    "*   No limitations on your model this time, just don't use CNNs now, that's up next week.\n",
    "\n",
    "**Feel free to redefine any pre-written cells below, just make sure to properly explain your work in Markdown and don't change the dataset**"
   ]
  },
  {
   "cell_type": "markdown",
   "metadata": {
    "id": "vC0ayFSADB7C"
   },
   "source": [
    "## Import libraries here\n",
    "PyTorch, NumPy, Matplotlib, ...\n",
    "Even when equipped with PyTorch, NumPy and Matplotlib make your work easier for visualization etc.\n",
    "\n",
    "Also remember to **initialize the seed** for reproducibility of results, both for NumPy & PyTorch."
   ]
  },
  {
   "cell_type": "code",
   "execution_count": 44,
   "metadata": {
    "id": "FLaLfmz8UGGU"
   },
   "outputs": [],
   "source": [
    "import numpy as np\n",
    "import pandas as pd\n",
    "import matplotlib.pyplot as plt\n",
    "import torch \n",
    "rand=69420\n",
    "np.random.seed(rand)\n",
    "torch.manual_seed(rand)\n",
    "from sklearn.model_selection import train_test_split\n",
    "from torchvision import transforms,datasets\n",
    "\n",
    "from sklearn.metrics import roc_auc_score"
   ]
  },
  {
   "cell_type": "markdown",
   "metadata": {
    "id": "s9qqRFFkDNeD"
   },
   "source": [
    "## Load *Dataset*\n",
    "**DON'T CHANGE THIS CODE**."
   ]
  },
  {
   "cell_type": "code",
   "execution_count": 45,
   "metadata": {
    "id": "iRUY2jQ8i68q"
   },
   "outputs": [],
   "source": [
    "train = datasets.MNIST('', train=True, download=True,\n",
    "                       transform=transforms.Compose([\n",
    "                           transforms.ToTensor()\n",
    "                       ]))\n",
    "\n",
    "test = datasets.MNIST('', train=False, download=True,\n",
    "                       transform=transforms.Compose([\n",
    "                           transforms.ToTensor()\n",
    "                       ]))"
   ]
  },
  {
   "cell_type": "markdown",
   "metadata": {
    "id": "wFGt8fegD28i"
   },
   "source": [
    "# Your Code from here..."
   ]
  },
  {
   "cell_type": "code",
   "execution_count": 46,
   "metadata": {
    "id": "umr8-1EI_3ez"
   },
   "outputs": [],
   "source": [
    "# load the data set\n",
    "X = train.data\n",
    "y= train.targets\n",
    "                                          \n",
    "mean = torch.mean(X,dtype=torch.float)/255\n",
    "std = torch.std(X.to(torch.float),unbiased=False)/255\n",
    "\n",
    "\n",
    "# normalize the dataset, won't be doing it here in later assignments\n",
    "X = (X/255-mean)/std\n",
    "mean = torch.mean(X,dtype=torch.float)\n",
    "std = torch.std(X.to(torch.float),unbiased=False)\n",
    "# Split into X_train, y_train, X_test, y_test\n",
    "# you can use stratified splitting from sklearn library\n",
    "\n",
    "X_train, X_test, y_train, y_test = train_test_split(X,y, test_size=0.20, random_state=69420)"
   ]
  },
  {
   "cell_type": "code",
   "execution_count": 47,
   "metadata": {
    "id": "w4174DiUAUIJ"
   },
   "outputs": [
    {
     "data": {
      "image/png": "[encoded data removed]",
      "text/plain": [
       "<Figure size 640x480 with 16 Axes>"
      ]
     },
     "metadata": {},
     "output_type": "display_data"
    }
   ],
   "source": [
    "\n",
    "# display a 4x4 grid, \n",
    "# choose 16 images randomly, display the images as well as corresponding labels\n",
    "fig = plt.figure()\n",
    "for i in range(16):\n",
    "  plt.subplot(4,4,i+1)\n",
    "  plt.tight_layout()\n",
    "  j=int((np.random.rand()*1000)%1000)\n",
    "  plt.imshow(X_train[j], cmap='gray', interpolation='none')\n",
    "  plt.title(\"Label: {}\".format(y_train[j]))\n",
    "  plt.xticks([])\n",
    "  plt.yticks([])"
   ]
  },
  {
   "cell_type": "code",
   "execution_count": 48,
   "metadata": {
    "id": "vifSrimqBGjH"
   },
   "outputs": [],
   "source": [
    "# define your dataset for pre-processing into Neural Network\n",
    "nn = torch.nn\n",
    "F = nn.functional\n",
    "optim= torch.optim \n",
    "process_data=torch.flatten(X_train,start_dim=1)\n",
    "process_cross=torch.flatten(X_test,start_dim=1)"
   ]
  },
  {
   "cell_type": "markdown",
   "metadata": {
    "id": "DOs6uifpBF8P"
   },
   "source": [
    "## ```nn.Module``` for your model\n",
    "In this segment, define a class for your model, it has to inherit from the ```nn.Module``` class. You must define two functions here - ```__init__``` and ```forward```, again pretty self-explanatory. Helper functions can also be implemented, your choice!\n",
    "\n",
    "Look into the following ```torch``` layers and combine them to form your network, you can find more [here](https://pytorch.org/docs/stable/nn.html) -\n",
    "- [```nn.Linear```](https://pytorch.org/docs/stable/generated/torch.nn.Linear.html)\n",
    "- [```nn.ReLU```](https://pytorch.org/docs/stable/generated/torch.nn.ReLU.html)\n",
    "- [```nn.BatchNorm1d```](https://pytorch.org/docs/stable/generated/torch.nn.BatchNorm1d.html)\n"
   ]
  },
  {
   "cell_type": "code",
   "execution_count": 49,
   "metadata": {
    "id": "6Mr6_5pzGRjp"
   },
   "outputs": [],
   "source": [
    "# define a child class of nn.Module for your model\n",
    "# specify the architecture here itself\n",
    "\n",
    "class Net(nn.Module):\n",
    "    def __init__(self): \n",
    "         super(Net, self).__init__()\n",
    "         self.fc1 = nn.Linear(784,196,bias=True)\n",
    "         self.fc2 = nn.Linear(196, 50,bias=True)\n",
    "         self.relu = nn.ReLU()\n",
    "         self.fc3 = nn.Linear(50, 10,bias=True)\n",
    "         \n",
    "    def forward(self,x):\n",
    "         x=(self.fc1(x))\n",
    "         x = self.relu(x)\n",
    "         x=(self.fc2(x))\n",
    "         x = self.relu(x)\n",
    "         x=(self.fc3(x))\n",
    "         return F.softmax(x,dim=-1)\n",
    "\n",
    "\n"
   ]
  },
  {
   "cell_type": "markdown",
   "metadata": {
    "id": "tVTyirdELXlt"
   },
   "source": [
    "## Training loop\n",
    "You can write a training loop but usually writing it within a function helps so that you can train in multiple passes with just one function call if you still don't see convergence of the loss. ```display_step``` is for you to display results on the validation set (which you must not have trained upon).\n",
    "\n",
    "You will need to use ```zero_grad()```, ```backward()``` and multiple such functions here. Look for them in the tutorials given."
   ]
  },
  {
   "cell_type": "code",
   "execution_count": 50,
   "metadata": {
    "id": "z0BnrNm8LN5s"
   },
   "outputs": [],
   "source": [
    "def train(model, optimizer, criterion, trainloader, display_step=None):\n",
    "    model.train()\n",
    "    for batch_idx, (data, target) in enumerate(trainloader):\n",
    "        optimizer.zero_grad()\n",
    "        output = model((data))\n",
    "        loss=criterion(output,target)\n",
    "        loss.backward()\n",
    "        optimizer.step()\n",
    "   "
   ]
  },
  {
   "cell_type": "markdown",
   "metadata": {
    "id": "ivuHRGtfN3sE"
   },
   "source": [
    "## Prediction & Accuracy\n",
    "Prediction function should predict outputs using your trained model for a given **NumPy array** ```X_test``` and the output should be another **NumPy array**.\n",
    "\n",
    "The accuracy function would be the same as before."
   ]
  },
  {
   "cell_type": "code",
   "execution_count": 51,
   "metadata": {
    "id": "cPX1q_0AN3ZV"
   },
   "outputs": [],
   "source": [
    "def predict(model, X_test):\n",
    "    output = model(X_test)\n",
    "    pred = output.data.max(0, keepdim=True)\n",
    "    return int(pred.indices)"
   ]
  },
  {
   "cell_type": "markdown",
   "metadata": {},
   "source": [
    "* Normal Accuracy"
   ]
  },
  {
   "cell_type": "code",
   "execution_count": 52,
   "metadata": {
    "id": "_nKROVpWOa6j"
   },
   "outputs": [],
   "source": [
    "def accuracy(pred, labels):\n",
    "    acc=0\n",
    "    total=0\n",
    "    curr=[]\n",
    "    l=[]\n",
    "    for i in range(len(pred)):\n",
    "        total +=1\n",
    "        if pred[i]==labels[i]:\n",
    "            curr.append(pred[i])\n",
    "            acc +=1\n",
    "    return (acc/total , curr)"
   ]
  },
  {
   "cell_type": "markdown",
   "metadata": {},
   "source": [
    "* AUC SCORE"
   ]
  },
  {
   "cell_type": "code",
   "execution_count": 53,
   "metadata": {},
   "outputs": [],
   "source": [
    "\n",
    "# The ROC-AUC value for the different classes is returned in the form of a dictionary\n",
    "def roc_auc_score_multiclass(y_test, predictions, average = \"macro\"):\n",
    "\n",
    "  #creating a set of all the unique classes using the actual class list\n",
    "  digits = [a for a in range(0,10)]\n",
    "  h = [0]*18000\n",
    "\n",
    "\n",
    "  g1 = [h.copy() for i in range(10)]\n",
    "\n",
    "  g2 = [h.copy() for i in range(10)]\n",
    "  \n",
    "  roc_auc_dict = {}\n",
    "\n",
    "  for i in range(len(y_test)):\n",
    "    #marking the current class as 1 and all other classes as 0\n",
    "    g1[y_test[i]][i] = 1\n",
    "    g2[predictions[i]][i] = 1\n",
    "\n",
    "  for digit in digits:\n",
    "    #using the sklearn metrics method to calculate the roc_auc_score\n",
    "    roc_auc = roc_auc_score(g1[digit], g2[digit])\n",
    "    roc_auc_dict[digit] = roc_auc\n",
    "  return roc_auc_dict"
   ]
  },
  {
   "cell_type": "markdown",
   "metadata": {
    "id": "8aA1EWZmMbQe"
   },
   "source": [
    "## Actually training your model\n",
    "- Create a model, initialize it. Define optimizer for the model as well as loss criterion (you can actually set the seed here again, just in case you did some ```rand``` calls above for testing your functions).\n",
    "- Define an instance of the dataset class, wrap it in a dataloader.\n",
    "- Call the train function and train your model!\n"
   ]
  },
  {
   "cell_type": "code",
   "execution_count": 54,
   "metadata": {
    "id": "F8JG_XURNLmr"
   },
   "outputs": [],
   "source": [
    "network = Net()\n",
    "learning_rate = 0.01\n",
    "momentum = 0.5\n",
    "n_epochs=10\n",
    "optimizer = optim.SGD(network.parameters(),lr=learning_rate,momentum=momentum)\n",
    "criterian =  F.nll_loss\n",
    "train_data = []\n",
    "for i in range(process_data.size()[0]):\n",
    "   train_data.append([process_data[i],y_train[i]])\n",
    "trainloader = torch.utils.data.DataLoader(train_data, shuffle=True,drop_last=True,batch_size=128)\n",
    "for i in range(n_epochs):\n",
    "   train(network,optimizer,criterian,trainloader)\n"
   ]
  },
  {
   "cell_type": "markdown",
   "metadata": {
    "id": "OQsiK0-COe6E"
   },
   "source": [
    "## Run your model for the validation dataset\n",
    "Use your trained model to get predictions for the validation dataset you split earlier."
   ]
  },
  {
   "cell_type": "code",
   "execution_count": 55,
   "metadata": {
    "id": "i_B_NUjUOq3c"
   },
   "outputs": [
    {
     "name": "stdout",
     "output_type": "stream",
     "text": [
      "Avg accuracy score is 0.90425\n"
     ]
    }
   ],
   "source": [
    "b=[]\n",
    "for i in process_cross:\n",
    "    a=predict(network,i)\n",
    "    b.append(a)\n",
    "acc=accuracy(b,y_test)\n",
    "print(f\"Avg accuracy score is {acc[0]}\")\n",
    "y=roc_auc_score_multiclass(y_test,b)"
   ]
  },
  {
   "cell_type": "code",
   "execution_count": 56,
   "metadata": {},
   "outputs": [],
   "source": [
    "df = {'predictions': [], 'y_test': [], 'correct_pred': [],'AUC-Score': y.values()}\n",
    "for i in range(0,10):\n",
    "    df['predictions'].append(b.count(i))\n",
    "    df['y_test'].append(list(y_test).count(i))\n",
    "    df['correct_pred'].append(acc[1].count(i))\n"
   ]
  },
  {
   "cell_type": "code",
   "execution_count": 57,
   "metadata": {},
   "outputs": [
    {
     "name": "stdout",
     "output_type": "stream",
     "text": [
      "       predictions  y_test  correct_pred  AUC-Score\n",
      "Digit                                              \n",
      "0             1252    1206          1165   0.980411\n",
      "1             1348    1332          1273   0.975603\n",
      "2             1089    1174          1003   0.924616\n",
      "3             1202    1184          1040   0.934372\n",
      "4             1259    1184          1109   0.963868\n",
      "5             1012    1081           886   0.906082\n",
      "6             1179    1152          1090   0.970449\n",
      "7             1252    1259          1164   0.959643\n",
      "8             1163    1152           998   0.928263\n",
      "9             1244    1276          1123   0.936429\n"
     ]
    }
   ],
   "source": [
    "df = pd.DataFrame(df)\n",
    "df.index.rename(inplace=True,name='Digit')\n",
    "print(df) "
   ]
  },
  {
   "cell_type": "markdown",
   "metadata": {},
   "source": []
  },
  {
   "cell_type": "markdown",
   "metadata": {
    "id": "0f4W_facj-PA"
   },
   "source": [
    "## Submission\n",
    "To submit your solution, you will need to make a file with name ```model.py``` containing imports necessary to write the model class and the model class itself. It shouldn't do anything else when run. Other than this, save the trained model in a file named ```ass_2.pt```. When you are done with the assignment, commit the updated notebook, the ```model.py``` class file and the ```ass_2.pt``` model-weights file to the repository."
   ]
  },
  {
   "cell_type": "code",
   "execution_count": 58,
   "metadata": {
    "id": "7tknYAy1j92M"
   },
   "outputs": [],
   "source": [
    "#from google.colab import files\n",
    "torch.save(network, 'ass_2.pt')\n",
    "# files.download('ass_2.pt') # download the file from the Colab session for submission"
   ]
  },
  {
   "cell_type": "markdown",
   "metadata": {
    "id": "flMRBW9Akhkg"
   },
   "source": [
    "Check if it got saved right!"
   ]
  },
  {
   "cell_type": "code",
   "execution_count": 60,
   "metadata": {},
   "outputs": [
    {
     "data": {
      "text/plain": [
       "6"
      ]
     },
     "execution_count": 60,
     "metadata": {},
     "output_type": "execute_result"
    }
   ],
   "source": [
    "a=torch.load('ass_2.pt')\n",
    "b=predict(a,process_cross[1])\n",
    "b"
   ]
  }
 ],
 "metadata": {
  "colab": {
   "provenance": []
  },
  "gpuClass": "standard",
  "kernelspec": {
   "display_name": "Python 3 (ipykernel)",
   "language": "python",
   "name": "python3"
  },
  "language_info": {
   "codemirror_mode": {
    "name": "ipython",
    "version": 3
   },
   "file_extension": ".py",
   "mimetype": "text/x-python",
   "name": "python",
   "nbconvert_exporter": "python",
   "pygments_lexer": "ipython3",
   "version": "3.10.8"
  },
  "vscode": {
   "interpreter": {
    "hash": "b0fa6594d8f4cbf19f97940f81e996739fb7646882a419484c72d19e05852a7e"
   }
  }
 },
 "nbformat": 4,
 "nbformat_minor": 1
}
